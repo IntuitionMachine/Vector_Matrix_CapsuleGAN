{
 "cells": [
  {
   "cell_type": "code",
   "execution_count": 6,
   "metadata": {},
   "outputs": [],
   "source": [
    "import pandas as pd\n",
    "import numpy as np\n",
    "import os\n",
    "\n",
    "def smooth(scalars, weight):  # Weight between 0 and 1\n",
    "    last = scalars[0]  # First value in the plot (first timestep)\n",
    "    smoothed = list()\n",
    "    for point in scalars:\n",
    "        smoothed_val = last * weight + (1 - weight) * point  # Calculate smoothed value\n",
    "        smoothed.append(smoothed_val)                        # Save it\n",
    "        last = smoothed_val                                  # Anchor the last smoothed value\n",
    "\n",
    "    return smoothed\n",
    "\n",
    "inputFilepath = './MMCaps_MNIST'\n",
    "\n",
    "for file in os.listdir(inputFilepath):\n",
    "    if file.endswith(\".csv\"):\n",
    "        \n",
    "        f = os.path.join(inputFilepath, file)\n",
    "        path, filename = os.path.split(f)\n",
    "        \n",
    "        df=pd.read_csv(f, sep=',',header=None)\n",
    "        raw = df.values\n",
    "        val = np.array(raw[:,2][1:]).astype(np.float)\n",
    "        \n",
    "        smoothed_val = np.array(smooth(val, 0.9))\n",
    "        raw[:,2][1:]=smoothed_val.astype(np.dtype('U25'))\n",
    "        raw = np.array(raw)\n",
    "        \n",
    "        df = pd.DataFrame(raw)\n",
    "        df.to_csv(os.path.join(path,'smoothed_'+filename), index=False, header=False)"
   ]
  },
  {
   "cell_type": "code",
   "execution_count": null,
   "metadata": {},
   "outputs": [],
   "source": []
  },
  {
   "cell_type": "code",
   "execution_count": null,
   "metadata": {},
   "outputs": [],
   "source": []
  }
 ],
 "metadata": {
  "kernelspec": {
   "display_name": "Python 3",
   "language": "python",
   "name": "python3"
  },
  "language_info": {
   "codemirror_mode": {
    "name": "ipython",
    "version": 3
   },
   "file_extension": ".py",
   "mimetype": "text/x-python",
   "name": "python",
   "nbconvert_exporter": "python",
   "pygments_lexer": "ipython3",
   "version": "3.5.2"
  }
 },
 "nbformat": 4,
 "nbformat_minor": 2
}
